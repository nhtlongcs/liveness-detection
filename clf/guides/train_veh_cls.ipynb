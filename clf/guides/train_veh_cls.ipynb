{
  "cells": [
    {
      "cell_type": "markdown",
      "source": [
        "Before following this tutorial, please complete the extract data tutorial, we need those files during classification training stage. We have already provided the generated data for the AI City Challenge 2022 dataset."
      ],
      "metadata": {
        "id": "4lZ8Mz6B1Aq4"
      }
    },
    {
      "cell_type": "code",
      "execution_count": 9,
      "metadata": {
        "id": "imOpA9u4sAVo"
      },
      "outputs": [],
      "source": [
        "# RUN THIS CELL EVERY RESET RUNTIME\n",
        "WORKDIR='/content/AIC2022-VER'\n",
        "DATADIR='/content/AIC2022-VER/data' # replace this path\n",
        "GITHUB_TOKEN=''\n",
        "WANDB_TOKEN=''"
      ]
    },
    {
      "cell_type": "markdown",
      "metadata": {
        "id": "f1yzDDRl3sqI"
      },
      "source": [
        "## Clone repo"
      ]
    },
    {
      "cell_type": "code",
      "source": [
        "!pip install --upgrade --no-cache-dir gdown google-cloud-storage python-Levenshtein webcolors"
      ],
      "metadata": {
        "id": "3mrTIO5x0G6g"
      },
      "execution_count": null,
      "outputs": []
    },
    {
      "cell_type": "code",
      "execution_count": 3,
      "metadata": {
        "colab": {
          "base_uri": "https://localhost:8080/"
        },
        "id": "iiyOUptAtbbj",
        "outputId": "5a5bdb6b-0b58-45f0-961b-8083fb731eb4"
      },
      "outputs": [
        {
          "output_type": "stream",
          "name": "stdout",
          "text": [
            "Cloning into 'AIC2022-VER'...\n",
            "remote: Enumerating objects: 2266, done.\u001b[K\n",
            "remote: Counting objects: 100% (2266/2266), done.\u001b[K\n",
            "remote: Compressing objects: 100% (1186/1186), done.\u001b[K\n",
            "remote: Total 2266 (delta 1138), reused 2045 (delta 968), pack-reused 0\u001b[K\n",
            "Receiving objects: 100% (2266/2266), 12.82 MiB | 18.75 MiB/s, done.\n",
            "Resolving deltas: 100% (1138/1138), done.\n"
          ]
        }
      ],
      "source": [
        "REPO_URL=f'https://{GITHUB_TOKEN}@github.com/nhtlongcs/AIC2022-VER/'\n",
        "!git clone $REPO_URL"
      ]
    },
    {
      "cell_type": "code",
      "execution_count": 4,
      "metadata": {
        "colab": {
          "base_uri": "https://localhost:8080/"
        },
        "id": "K-AADRpmuJBz",
        "outputId": "86b67a06-c60f-460c-8684-9091b0bb71d0"
      },
      "outputs": [
        {
          "output_type": "stream",
          "name": "stdout",
          "text": [
            "/content/AIC2022-VER\n",
            "Already on 'main'\n",
            "Your branch is up to date with 'origin/main'.\n",
            "HEAD is now at fa8a6a1 Update workflows.yml\n",
            "Already up to date.\n"
          ]
        }
      ],
      "source": [
        "%cd $WORKDIR\n",
        "!git checkout main\n",
        "!git reset --hard HEAD\n",
        "!git pull"
      ]
    },
    {
      "cell_type": "code",
      "execution_count": null,
      "metadata": {
        "id": "7mGu6RqhJGYU"
      },
      "outputs": [],
      "source": [
        "%cd $WORKDIR\n",
        "!pip install faiss-gpu\n",
        "!pip install -r requirements.txt\n",
        "!pip install -e . "
      ]
    },
    {
      "cell_type": "code",
      "source": [
        "import gdown \n",
        "def download(token, output: str):\n",
        "    url = f'https://drive.google.com/uc?id={token}'\n",
        "    gdown.download(url, output, quiet=False)"
      ],
      "metadata": {
        "id": "2EBm4Phn1vA-"
      },
      "execution_count": 1,
      "outputs": []
    },
    {
      "cell_type": "code",
      "source": [
        "!mkdir -p $DATADIR\n",
        "%cd $DATADIR\n",
        "\n",
        "download('1oSFW3ITFPiAVlBrRYctjUANmNid6nob0', 'meta_base.zip')\n",
        "download('1jMGukcjHcJ9jprvqTBzbzrZPUa10BKVx', 'meta_motion_part.zip')\n",
        "download('13atYqOhGUEqBD_xpdwOyQqGrkE2psVxX', 'meta_srl_part.zip')"
      ],
      "metadata": {
        "id": "iTZtOjhJR5ew",
        "colab": {
          "base_uri": "https://localhost:8080/"
        },
        "outputId": "47d90883-19e6-4746-f27d-1fa7337ac9b0"
      },
      "execution_count": 4,
      "outputs": [
        {
          "output_type": "stream",
          "name": "stdout",
          "text": [
            "/content/AIC2022-VER/data\n"
          ]
        },
        {
          "output_type": "stream",
          "name": "stderr",
          "text": [
            "Downloading...\n",
            "From: https://drive.google.com/uc?id=1oSFW3ITFPiAVlBrRYctjUANmNid6nob0\n",
            "To: /content/AIC2022-VER/data/meta_base.zip\n",
            "100%|██████████| 14.0G/14.0G [01:58<00:00, 118MB/s]\n"
          ]
        }
      ]
    },
    {
      "cell_type": "code",
      "execution_count": null,
      "metadata": {
        "id": "vqaRT-m1BT76"
      },
      "outputs": [],
      "source": [
        "!unzip $DATADIR/meta_base.zip         -d $DATADIR/\n",
        "!unzip $DATADIR/meta_motion_part.zip  -d $DATADIR/meta\n",
        "!unzip $DATADIR/meta_srl_part.zip     -d $DATADIR/meta"
      ]
    },
    {
      "cell_type": "markdown",
      "metadata": {
        "id": "4Q7nlrsOKfAj"
      },
      "source": [
        "## Training guide\n"
      ]
    },
    {
      "cell_type": "code",
      "execution_count": 10,
      "metadata": {
        "colab": {
          "base_uri": "https://localhost:8080/"
        },
        "id": "NZbgljOcM0if",
        "outputId": "0aaa2ddf-2709-4530-bee8-af1687710ad4"
      },
      "outputs": [
        {
          "output_type": "stream",
          "name": "stdout",
          "text": [
            "Overwriting /content/AIC2022-VER/configs/srl/vehtype.yml\n"
          ]
        }
      ],
      "source": [
        "%%writefile /content/AIC2022-VER/configs/srl/vehtype.yml\n",
        "global:\n",
        "  project_name: aic\n",
        "  username: nhtlong\n",
        "  name: \"vehtype\"\n",
        "  save_dir: ./runs\n",
        "  use_fp16: true\n",
        "  debug: false\n",
        "  verbose: true\n",
        "  SEED: 1337\n",
        "  pretrained: null\n",
        "  resume: null\n",
        "data:\n",
        "  name: CropVehDataset\n",
        "  args:\n",
        "    CITYFLOW_PATH: \"data/meta/extracted_frames\"\n",
        "    SIZE: 288\n",
        "    CROP_AREA: 1.0 ## new_= CROP_AREA * old_w\n",
        "    train:\n",
        "      color_csv: \"data/meta/srl/color/col_train.csv\"\n",
        "      vehtype_csv: \"data/meta/srl/veh/train_fraction.csv\"\n",
        "      json_path: \"data/meta/split/train.json\"\n",
        "      loader:\n",
        "        batch_size: 32\n",
        "        num_workers: 2\n",
        "        shuffle: True\n",
        "        drop_last: True\n",
        "    val:\n",
        "      color_csv: \"data/meta/srl/color/col_train.csv\"\n",
        "      vehtype_csv: \"data/meta/srl/veh/train_fraction.csv\"\n",
        "      json_path: \"data/meta/split/val.json\"\n",
        "      loader:\n",
        "        batch_size: 32\n",
        "        num_workers: 2\n",
        "        shuffle: False\n",
        "        drop_last: False\n",
        "extractors:\n",
        "  img_encoder:\n",
        "    name: EfficientNetExtractor\n",
        "    args:\n",
        "      version: 0\n",
        "      from_pretrained: True\n",
        "      freeze: False\n",
        "model:\n",
        "  name: VehTypeClassifer\n",
        "  args:\n",
        "    NUM_CLASS: 6 # Num of unique vehicles\n",
        "    EMBED_DIM: 768\n",
        "metric:\n",
        "  - name: F1score\n",
        "    args:\n",
        "      label_key: \"vehtype_lbls\"\n",
        "      num_classes: 6\n",
        "  - name: Accuracy\n",
        "    args:\n",
        "      label_key: \"vehtype_lbls\"\n",
        "trainer:\n",
        "  lr: 0.001\n",
        "  num_epochs: 100\n",
        "  clip_grad: 10.0\n",
        "  evaluate_interval: 1\n",
        "  print_interval: 20\n",
        "  save_interval: 1000\n",
        "callbacks:\n",
        "  - name: ModelCheckpoint\n",
        "    args:\n",
        "      filename: \"Vehtype-{epoch}-{val/f1:.4f}\"\n",
        "      monitor: \"val/f1\"\n",
        "      verbose: True\n",
        "      save_top_k: 3\n",
        "      mode: max\n",
        "  - name: EarlyStopping\n",
        "    args:\n",
        "      monitor: \"val/f1\"\n",
        "      min_delta: 0.0001\n",
        "      patience: 15\n",
        "      verbose: False\n",
        "      mode: max\n",
        "  - name: LearningRateMonitor\n",
        "    args:\n",
        "      logging_interval: step"
      ]
    },
    {
      "cell_type": "code",
      "execution_count": 11,
      "metadata": {
        "colab": {
          "base_uri": "https://localhost:8080/"
        },
        "id": "B6C8153GMxKA",
        "outputId": "3eff3fbd-ad12-4fa6-daf4-1850fe8098f3"
      },
      "outputs": [
        {
          "output_type": "stream",
          "name": "stdout",
          "text": [
            "\u001b[34m\u001b[1mwandb\u001b[0m: Appending key for api.wandb.ai to your netrc file: /root/.netrc\n"
          ]
        }
      ],
      "source": [
        "!wandb login --relogin $WANDB_TOKEN"
      ]
    },
    {
      "cell_type": "code",
      "execution_count": null,
      "metadata": {
        "colab": {
          "base_uri": "https://localhost:8080/"
        },
        "id": "xPV1JRl7KiJJ",
        "outputId": "c645563d-6c50-4ad1-da49-f4b485e77311"
      },
      "outputs": [
        {
          "output_type": "stream",
          "name": "stdout",
          "text": [
            "/content/AIC2022-VER\n",
            "Overriding configurating\n",
            "Global seed set to 1337\n",
            "Downloading: \"https://github.com/lukemelas/EfficientNet-PyTorch/releases/download/1.0/efficientnet-b0-355c32eb.pth\" to /root/.cache/torch/hub/checkpoints/efficientnet-b0-355c32eb.pth\n",
            "100% 20.4M/20.4M [00:01<00:00, 17.3MB/s]\n",
            "Loaded pretrained weights for efficientnet-b0\n",
            "\u001b[34m\u001b[1mwandb\u001b[0m: Currently logged in as: \u001b[33mnhtlong\u001b[0m (use `wandb login --relogin` to force relogin)\n",
            "\u001b[34m\u001b[1mwandb\u001b[0m: Tracking run with wandb version 0.12.13\n",
            "\u001b[34m\u001b[1mwandb\u001b[0m: Run data is saved locally in \u001b[35m\u001b[1m/content/runs/wandb/run-20220407_211950-1sgv0lja\u001b[0m\n",
            "\u001b[34m\u001b[1mwandb\u001b[0m: Run \u001b[1m`wandb offline`\u001b[0m to turn off syncing.\n",
            "\u001b[34m\u001b[1mwandb\u001b[0m: Syncing run \u001b[33mvehtype-2022_04_07-21_19_49\u001b[0m\n",
            "\u001b[34m\u001b[1mwandb\u001b[0m: ⭐️ View project at \u001b[34m\u001b[4mhttps://wandb.ai/hcmus-aic22-ver/aic-srl\u001b[0m\n",
            "\u001b[34m\u001b[1mwandb\u001b[0m: 🚀 View run at \u001b[34m\u001b[4mhttps://wandb.ai/hcmus-aic22-ver/aic-srl/runs/1sgv0lja\u001b[0m\n",
            "Using 16bit native Automatic Mixed Precision (AMP)\n",
            "GPU available: True, used: True\n",
            "TPU available: False, using: 0 TPU cores\n",
            "IPU available: False, using: 0 IPUs\n",
            "HPU available: False, using: 0 HPUs\n",
            "1724\n",
            "data load\n",
            "431\n",
            "data load\n",
            "LOCAL_RANK: 0 - CUDA_VISIBLE_DEVICES: [0]\n",
            "\n",
            "  | Name         | Type                  | Params\n",
            "-------------------------------------------------------\n",
            "0 | visualExtrct | EfficientNetExtractor | 5.3 M \n",
            "1 | logits       | ClassifyBlock         | 989 K \n",
            "2 | loss         | FocalLoss             | 0     \n",
            "-------------------------------------------------------\n",
            "6.3 M     Trainable params\n",
            "0         Non-trainable params\n",
            "6.3 M     Total params\n",
            "12.557    Total estimated model params size (MB)\n",
            "Sanity Checking DataLoader 0: 100% 14/14 [00:13<00:00,  1.02it/s]f1: 0.87766 | Accuracy: 0.91725 | \n",
            "\n",
            "Epoch 0:  79% 53/67 [00:53<00:14,  1.02s/it, loss=0.0521, v_num=0lja]\n",
            "Validation: 0it [00:00, ?it/s]\u001b[A\n",
            "Validation DataLoader 0:   0% 0/14 [00:02<?, ?it/s]\u001b[A\n",
            "Epoch 0: 100% 67/67 [01:07<00:00,  1.00s/it, loss=0.0521, v_num=0lja]f1: 0.87766 | Accuracy: 0.91725 | \n",
            "\n",
            "Epoch 0: 100% 67/67 [01:07<00:00,  1.00s/it, loss=0.0521, v_num=0lja]\n",
            "Epoch 0: 100% 67/67 [01:07<00:00,  1.00s/it, loss=0.0521, v_num=0lja]Epoch 0, global step 53: 'val/f1' reached 0.87766 (best 0.87766), saving model to '/content/runs/aic-srl/1sgv0lja/checkpoints/Vehtype-epoch=0-val/f1=0.8777.ckpt' as top 3\n",
            "Epoch 1:  79% 53/67 [02:04<00:32,  2.34s/it, loss=0.0237, v_num=0lja]\n",
            "Validation: 0it [00:00, ?it/s]\u001b[A\n",
            "Validation DataLoader 0:   0% 0/14 [00:02<?, ?it/s]\u001b[A\n",
            "Epoch 1: 100% 67/67 [02:17<00:00,  2.06s/it, loss=0.0237, v_num=0lja]f1: 0.87766 | Accuracy: 0.91725 | \n",
            "\n",
            "Epoch 1: 100% 67/67 [02:17<00:00,  2.06s/it, loss=0.0237, v_num=0lja]\n",
            "Epoch 1: 100% 67/67 [02:17<00:00,  2.06s/it, loss=0.0237, v_num=0lja]Epoch 1, global step 106: 'val/f1' reached 0.87766 (best 0.87766), saving model to '/content/runs/aic-srl/1sgv0lja/checkpoints/Vehtype-epoch=1-val/f1=0.8777.ckpt' as top 3\n",
            "Epoch 2:  79% 53/67 [03:14<00:51,  3.67s/it, loss=0.0188, v_num=0lja]\n",
            "Validation: 0it [00:00, ?it/s]\u001b[A\n",
            "Validation DataLoader 0:   0% 0/14 [00:02<?, ?it/s]\u001b[A\n",
            "Epoch 2: 100% 67/67 [03:27<00:00,  3.10s/it, loss=0.0188, v_num=0lja]f1: 0.88874 | Accuracy: 0.92111 | \n",
            "\n",
            "Epoch 2: 100% 67/67 [03:27<00:00,  3.10s/it, loss=0.0188, v_num=0lja]\n",
            "Epoch 2: 100% 67/67 [03:27<00:00,  3.10s/it, loss=0.0188, v_num=0lja]Epoch 2, global step 159: 'val/f1' reached 0.88874 (best 0.88874), saving model to '/content/runs/aic-srl/1sgv0lja/checkpoints/Vehtype-epoch=2-val/f1=0.8887.ckpt' as top 3\n",
            "Epoch 3:  79% 53/67 [04:24<01:09,  5.00s/it, loss=0.0162, v_num=0lja]\n",
            "Validation: 0it [00:00, ?it/s]\u001b[A\n",
            "Validation DataLoader 0:   0% 0/14 [00:02<?, ?it/s]\u001b[A\n",
            "Epoch 3: 100% 67/67 [04:38<00:00,  4.15s/it, loss=0.0162, v_num=0lja]f1: 0.89428 | Accuracy: 0.92421 | \n",
            "\n",
            "Epoch 3: 100% 67/67 [04:38<00:00,  4.16s/it, loss=0.0162, v_num=0lja]\n",
            "Epoch 3: 100% 67/67 [04:38<00:00,  4.16s/it, loss=0.0162, v_num=0lja]Epoch 3, global step 212: 'val/f1' reached 0.89428 (best 0.89428), saving model to '/content/runs/aic-srl/1sgv0lja/checkpoints/Vehtype-epoch=3-val/f1=0.8943.ckpt' as top 3\n",
            "Epoch 4:  79% 53/67 [05:35<01:28,  6.32s/it, loss=0.0159, v_num=0lja]\n",
            "Validation: 0it [00:00, ?it/s]\u001b[A\n",
            "Validation DataLoader 0:   0% 0/14 [00:02<?, ?it/s]\u001b[A\n",
            "Epoch 4: 100% 67/67 [05:48<00:00,  5.21s/it, loss=0.0159, v_num=0lja]f1: 0.90968 | Accuracy: 0.92846 | \n",
            "\n",
            "Epoch 4: 100% 67/67 [05:48<00:00,  5.21s/it, loss=0.0159, v_num=0lja]\n",
            "Epoch 4: 100% 67/67 [05:48<00:00,  5.21s/it, loss=0.0159, v_num=0lja]Epoch 4, global step 265: 'val/f1' reached 0.90968 (best 0.90968), saving model to '/content/runs/aic-srl/1sgv0lja/checkpoints/Vehtype-epoch=4-val/f1=0.9097.ckpt' as top 3\n",
            "Epoch 5:  79% 53/67 [06:46<01:47,  7.66s/it, loss=0.0152, v_num=0lja]\n",
            "Validation: 0it [00:00, ?it/s]\u001b[A\n",
            "Validation DataLoader 0:   0% 0/14 [00:02<?, ?it/s]\u001b[A\n",
            "Epoch 5: 100% 67/67 [06:59<00:00,  6.26s/it, loss=0.0152, v_num=0lja]f1: 0.89729 | Accuracy: 0.92537 | \n",
            "\n",
            "Epoch 5: 100% 67/67 [06:59<00:00,  6.26s/it, loss=0.0152, v_num=0lja]\n",
            "Epoch 5: 100% 67/67 [06:59<00:00,  6.26s/it, loss=0.0152, v_num=0lja]Epoch 5, global step 318: 'val/f1' reached 0.89729 (best 0.90968), saving model to '/content/runs/aic-srl/1sgv0lja/checkpoints/Vehtype-epoch=5-val/f1=0.8973.ckpt' as top 3\n",
            "Epoch 6:  79% 53/67 [07:55<02:05,  8.98s/it, loss=0.0141, v_num=0lja]\n",
            "Validation: 0it [00:00, ?it/s]\u001b[A\n",
            "Validation DataLoader 0:   0% 0/14 [00:02<?, ?it/s]\u001b[A\n",
            "Epoch 6: 100% 67/67 [08:09<00:00,  7.30s/it, loss=0.0141, v_num=0lja]f1: 0.91282 | Accuracy: 0.93155 | \n",
            "\n",
            "Epoch 6: 100% 67/67 [08:09<00:00,  7.30s/it, loss=0.0141, v_num=0lja]\n",
            "Epoch 6: 100% 67/67 [08:09<00:00,  7.30s/it, loss=0.0141, v_num=0lja]Epoch 6, global step 371: 'val/f1' reached 0.91282 (best 0.91282), saving model to '/content/runs/aic-srl/1sgv0lja/checkpoints/Vehtype-epoch=6-val/f1=0.9128.ckpt' as top 3\n",
            "Epoch 7:  79% 53/67 [09:05<02:24, 10.30s/it, loss=0.0124, v_num=0lja]\n",
            "Validation: 0it [00:00, ?it/s]\u001b[A\n",
            "Validation DataLoader 0:   0% 0/14 [00:02<?, ?it/s]\u001b[A\n",
            "Epoch 7: 100% 67/67 [09:19<00:00,  8.35s/it, loss=0.0124, v_num=0lja]f1: 0.90175 | Accuracy: 0.92730 | \n",
            "\n",
            "Epoch 7: 100% 67/67 [09:19<00:00,  8.35s/it, loss=0.0124, v_num=0lja]\n",
            "Epoch 7: 100% 67/67 [09:19<00:00,  8.35s/it, loss=0.0124, v_num=0lja]Epoch 7, global step 424: 'val/f1' reached 0.90175 (best 0.91282), saving model to '/content/runs/aic-srl/1sgv0lja/checkpoints/Vehtype-epoch=7-val/f1=0.9018.ckpt' as top 3\n",
            "Epoch 8:  79% 53/67 [10:15<02:42, 11.62s/it, loss=0.0125, v_num=0lja]\n",
            "Validation: 0it [00:00, ?it/s]\u001b[A\n",
            "Validation DataLoader 0:   0% 0/14 [00:02<?, ?it/s]\u001b[A\n",
            "Epoch 8: 100% 67/67 [10:29<00:00,  9.39s/it, loss=0.0125, v_num=0lja]f1: 0.90115 | Accuracy: 0.92575 | \n",
            "\n",
            "Epoch 8: 100% 67/67 [10:29<00:00,  9.39s/it, loss=0.0125, v_num=0lja]\n",
            "Epoch 8: 100% 67/67 [10:29<00:00,  9.39s/it, loss=0.0125, v_num=0lja]Epoch 8, global step 477: 'val/f1' was not in top 3\n",
            "Epoch 9:  79% 53/67 [11:24<03:00, 12.92s/it, loss=0.0121, v_num=0lja]\n",
            "Validation: 0it [00:00, ?it/s]\u001b[A\n",
            "Validation DataLoader 0:   0% 0/14 [00:02<?, ?it/s]\u001b[A\n",
            "Epoch 9: 100% 67/67 [11:38<00:00, 10.42s/it, loss=0.0121, v_num=0lja]f1: 0.90280 | Accuracy: 0.92807 | \n",
            "\n",
            "Epoch 9: 100% 67/67 [11:38<00:00, 10.42s/it, loss=0.0121, v_num=0lja]\n",
            "Epoch 9: 100% 67/67 [11:38<00:00, 10.42s/it, loss=0.0121, v_num=0lja]Epoch 9, global step 530: 'val/f1' reached 0.90280 (best 0.91282), saving model to '/content/runs/aic-srl/1sgv0lja/checkpoints/Vehtype-epoch=9-val/f1=0.9028.ckpt' as top 3\n",
            "Epoch 10:  79% 53/67 [12:35<03:19, 14.25s/it, loss=0.0106, v_num=0lja]\n",
            "Validation: 0it [00:00, ?it/s]\u001b[A\n",
            "Validation DataLoader 0:   0% 0/14 [00:02<?, ?it/s]\u001b[A\n",
            "Epoch 10: 100% 67/67 [12:49<00:00, 11.48s/it, loss=0.0106, v_num=0lja]f1: 0.92722 | Accuracy: 0.93890 | \n",
            "\n",
            "Epoch 10: 100% 67/67 [12:49<00:00, 11.48s/it, loss=0.0106, v_num=0lja]\n",
            "Epoch 10: 100% 67/67 [12:49<00:00, 11.48s/it, loss=0.0106, v_num=0lja]Epoch 10, global step 583: 'val/f1' reached 0.92722 (best 0.92722), saving model to '/content/runs/aic-srl/1sgv0lja/checkpoints/Vehtype-epoch=10-val/f1=0.9272.ckpt' as top 3\n",
            "Epoch 11:  79% 53/67 [13:46<03:38, 15.59s/it, loss=0.0112, v_num=0lja] \n",
            "Validation: 0it [00:00, ?it/s]\u001b[A\n",
            "Validation DataLoader 0:   0% 0/14 [00:02<?, ?it/s]\u001b[A\n",
            "Epoch 11: 100% 67/67 [13:59<00:00, 12.53s/it, loss=0.0112, v_num=0lja]f1: 0.92511 | Accuracy: 0.93542 | \n",
            "\n",
            "Epoch 11: 100% 67/67 [13:59<00:00, 12.53s/it, loss=0.0112, v_num=0lja]\n",
            "Epoch 11: 100% 67/67 [13:59<00:00, 12.53s/it, loss=0.0112, v_num=0lja]Epoch 11, global step 636: 'val/f1' reached 0.92511 (best 0.92722), saving model to '/content/runs/aic-srl/1sgv0lja/checkpoints/Vehtype-epoch=11-val/f1=0.9251.ckpt' as top 3\n",
            "Epoch 12:  79% 53/67 [14:56<03:56, 16.91s/it, loss=0.011, v_num=0lja]\n",
            "Validation: 0it [00:00, ?it/s]\u001b[A\n",
            "Validation DataLoader 0:   0% 0/14 [00:02<?, ?it/s]\u001b[A\n",
            "Epoch 12: 100% 67/67 [15:09<00:00, 13.58s/it, loss=0.011, v_num=0lja]f1: 0.92607 | Accuracy: 0.93852 | \n",
            "\n",
            "Epoch 12: 100% 67/67 [15:09<00:00, 13.58s/it, loss=0.011, v_num=0lja]\n",
            "Epoch 12: 100% 67/67 [15:09<00:00, 13.58s/it, loss=0.011, v_num=0lja]Epoch 12, global step 689: 'val/f1' reached 0.92607 (best 0.92722), saving model to '/content/runs/aic-srl/1sgv0lja/checkpoints/Vehtype-epoch=12-val/f1=0.9261.ckpt' as top 3\n",
            "Epoch 13:  79% 53/67 [16:07<04:15, 18.25s/it, loss=0.00994, v_num=0lja]\n",
            "Validation: 0it [00:00, ?it/s]\u001b[A\n",
            "Validation DataLoader 0:   0% 0/14 [00:02<?, ?it/s]\u001b[A\n",
            "Epoch 13: 100% 67/67 [16:20<00:00, 14.63s/it, loss=0.00994, v_num=0lja]f1: 0.91441 | Accuracy: 0.93310 | \n",
            "\n",
            "Epoch 13: 100% 67/67 [16:20<00:00, 14.63s/it, loss=0.00994, v_num=0lja]\n",
            "Epoch 13: 100% 67/67 [16:20<00:00, 14.63s/it, loss=0.00994, v_num=0lja]Epoch 13, global step 742: 'val/f1' was not in top 3\n",
            "Epoch 14:  79% 53/67 [17:15<04:33, 19.54s/it, loss=0.00916, v_num=0lja]\n",
            "Validation: 0it [00:00, ?it/s]\u001b[A\n",
            "Validation DataLoader 0:   0% 0/14 [00:02<?, ?it/s]\u001b[A\n",
            "Epoch 14: 100% 67/67 [17:28<00:00, 15.66s/it, loss=0.00916, v_num=0lja]f1: 0.91815 | Accuracy: 0.93503 | \n",
            "\n",
            "Epoch 14: 100% 67/67 [17:28<00:00, 15.66s/it, loss=0.00916, v_num=0lja]\n",
            "Epoch 14: 100% 67/67 [17:28<00:00, 15.66s/it, loss=0.00916, v_num=0lja]Epoch 14, global step 795: 'val/f1' was not in top 3\n",
            "Epoch 15:  79% 53/67 [18:23<04:51, 20.83s/it, loss=0.00899, v_num=0lja]\n",
            "Validation: 0it [00:00, ?it/s]\u001b[A\n",
            "Validation DataLoader 0:   0% 0/14 [00:02<?, ?it/s]\u001b[A\n",
            "Epoch 15: 100% 67/67 [18:37<00:00, 16.67s/it, loss=0.00899, v_num=0lja]f1: 0.91365 | Accuracy: 0.93117 | \n",
            "\n",
            "Epoch 15: 100% 67/67 [18:37<00:00, 16.67s/it, loss=0.00899, v_num=0lja]\n",
            "Epoch 15: 100% 67/67 [18:37<00:00, 16.67s/it, loss=0.00899, v_num=0lja]Epoch 15, global step 848: 'val/f1' was not in top 3\n",
            "Epoch 16:  79% 53/67 [19:31<05:09, 22.11s/it, loss=0.00907, v_num=0lja]\n",
            "Validation: 0it [00:00, ?it/s]\u001b[A\n",
            "Validation DataLoader 0:   0% 0/14 [00:02<?, ?it/s]\u001b[A\n",
            "Epoch 16: 100% 67/67 [19:45<00:00, 17.69s/it, loss=0.00907, v_num=0lja]f1: 0.91502 | Accuracy: 0.93387 | \n",
            "\n",
            "Epoch 16: 100% 67/67 [19:45<00:00, 17.69s/it, loss=0.00907, v_num=0lja]\n",
            "Epoch 16: 100% 67/67 [19:45<00:00, 17.69s/it, loss=0.00907, v_num=0lja]Epoch 16, global step 901: 'val/f1' was not in top 3\n",
            "Epoch 17:  79% 53/67 [20:40<05:27, 23.40s/it, loss=0.00755, v_num=0lja]\n",
            "Validation: 0it [00:00, ?it/s]\u001b[A\n",
            "Validation DataLoader 0:   0% 0/14 [00:02<?, ?it/s]\u001b[A\n",
            "Epoch 17: 100% 67/67 [20:53<00:00, 18.71s/it, loss=0.00755, v_num=0lja]f1: 0.93377 | Accuracy: 0.94006 | \n",
            "\n",
            "Epoch 17: 100% 67/67 [20:53<00:00, 18.71s/it, loss=0.00755, v_num=0lja]\n",
            "Epoch 17: 100% 67/67 [20:53<00:00, 18.71s/it, loss=0.00755, v_num=0lja]Epoch 17, global step 954: 'val/f1' reached 0.93377 (best 0.93377), saving model to '/content/runs/aic-srl/1sgv0lja/checkpoints/Vehtype-epoch=17-val/f1=0.9338.ckpt' as top 3\n",
            "Epoch 18:  79% 53/67 [21:50<05:46, 24.72s/it, loss=0.00945, v_num=0lja]\n",
            "Validation: 0it [00:00, ?it/s]\u001b[A\n",
            "Validation DataLoader 0:   0% 0/14 [00:02<?, ?it/s]\u001b[A\n",
            "Epoch 18: 100% 67/67 [22:03<00:00, 19.76s/it, loss=0.00945, v_num=0lja]f1: 0.90109 | Accuracy: 0.92498 | \n",
            "\n",
            "Epoch 18: 100% 67/67 [22:03<00:00, 19.76s/it, loss=0.00945, v_num=0lja]\n",
            "Epoch 18: 100% 67/67 [22:03<00:00, 19.76s/it, loss=0.00945, v_num=0lja]Epoch 18, global step 1007: 'val/f1' was not in top 3\n",
            "Epoch 19:  79% 53/67 [22:58<06:04, 26.01s/it, loss=0.00795, v_num=0lja]\n",
            "Validation: 0it [00:00, ?it/s]\u001b[A\n",
            "Validation DataLoader 0:   0% 0/14 [00:02<?, ?it/s]\u001b[A\n",
            "Epoch 19: 100% 67/67 [23:12<00:00, 20.78s/it, loss=0.00795, v_num=0lja]f1: 0.93238 | Accuracy: 0.94200 | \n",
            "\n",
            "Epoch 19: 100% 67/67 [23:12<00:00, 20.78s/it, loss=0.00795, v_num=0lja]\n",
            "Epoch 19: 100% 67/67 [23:12<00:00, 20.78s/it, loss=0.00795, v_num=0lja]Epoch 19, global step 1060: 'val/f1' reached 0.93238 (best 0.93377), saving model to '/content/runs/aic-srl/1sgv0lja/checkpoints/Vehtype-epoch=19-val/f1=0.9324.ckpt' as top 3\n",
            "Epoch 20:  79% 53/67 [24:08<06:22, 27.34s/it, loss=0.00689, v_num=0lja]\n",
            "Validation: 0it [00:00, ?it/s]\u001b[A\n",
            "Validation DataLoader 0:   0% 0/14 [00:02<?, ?it/s]\u001b[A\n",
            "Epoch 20: 100% 67/67 [24:22<00:00, 21.82s/it, loss=0.00689, v_num=0lja]f1: 0.92611 | Accuracy: 0.93890 | \n",
            "\n",
            "Epoch 20: 100% 67/67 [24:22<00:00, 21.82s/it, loss=0.00689, v_num=0lja]\n",
            "Epoch 20: 100% 67/67 [24:22<00:00, 21.82s/it, loss=0.00689, v_num=0lja]Epoch 20, global step 1113: 'val/f1' was not in top 3\n",
            "Epoch 21:  79% 53/67 [25:17<06:40, 28.63s/it, loss=0.00859, v_num=0lja]\n",
            "Validation: 0it [00:00, ?it/s]\u001b[A\n",
            "Validation DataLoader 0:   0% 0/14 [00:02<?, ?it/s]\u001b[A\n",
            "Epoch 21: 100% 67/67 [25:30<00:00, 22.85s/it, loss=0.00859, v_num=0lja]f1: 0.92110 | Accuracy: 0.93697 | \n",
            "\n",
            "Epoch 21: 100% 67/67 [25:30<00:00, 22.85s/it, loss=0.00859, v_num=0lja]\n",
            "Epoch 21: 100% 67/67 [25:30<00:00, 22.85s/it, loss=0.00859, v_num=0lja]Epoch 21, global step 1166: 'val/f1' was not in top 3\n",
            "Epoch 22:  79% 53/67 [26:26<06:58, 29.93s/it, loss=0.008, v_num=0lja]  \n",
            "Validation: 0it [00:00, ?it/s]\u001b[A\n",
            "Validation DataLoader 0:   0% 0/14 [00:02<?, ?it/s]\u001b[A\n",
            "Epoch 22: 100% 67/67 [26:39<00:00, 23.87s/it, loss=0.008, v_num=0lja]f1: 0.90325 | Accuracy: 0.92421 | \n",
            "\n",
            "Epoch 22: 100% 67/67 [26:39<00:00, 23.87s/it, loss=0.008, v_num=0lja]\n",
            "Epoch 22: 100% 67/67 [26:39<00:00, 23.87s/it, loss=0.008, v_num=0lja]Epoch 22, global step 1219: 'val/f1' was not in top 3\n",
            "Epoch 23:  79% 53/67 [27:34<07:17, 31.22s/it, loss=0.00671, v_num=0lja]\n",
            "Validation: 0it [00:00, ?it/s]\u001b[A\n",
            "Validation DataLoader 0:   0% 0/14 [00:02<?, ?it/s]\u001b[A\n",
            "Epoch 23: 100% 67/67 [27:47<00:00, 24.89s/it, loss=0.00671, v_num=0lja]f1: 0.93372 | Accuracy: 0.94354 | \n",
            "\n",
            "Epoch 23: 100% 67/67 [27:47<00:00, 24.89s/it, loss=0.00671, v_num=0lja]\n",
            "Epoch 23: 100% 67/67 [27:47<00:00, 24.89s/it, loss=0.00671, v_num=0lja]Epoch 23, global step 1272: 'val/f1' reached 0.93372 (best 0.93377), saving model to '/content/runs/aic-srl/1sgv0lja/checkpoints/Vehtype-epoch=23-val/f1=0.9337.ckpt' as top 3\n",
            "Epoch 24:  79% 53/67 [28:44<07:35, 32.53s/it, loss=0.00733, v_num=0lja]\n",
            "Validation: 0it [00:00, ?it/s]\u001b[A\n",
            "Validation DataLoader 0:   0% 0/14 [00:02<?, ?it/s]\u001b[A\n",
            "Epoch 24: 100% 67/67 [28:57<00:00, 25.93s/it, loss=0.00733, v_num=0lja]f1: 0.91547 | Accuracy: 0.93349 | \n",
            "\n",
            "Epoch 24: 100% 67/67 [28:57<00:00, 25.93s/it, loss=0.00733, v_num=0lja]\n",
            "Epoch 24: 100% 67/67 [28:57<00:00, 25.93s/it, loss=0.00733, v_num=0lja]Epoch 24, global step 1325: 'val/f1' was not in top 3\n",
            "Epoch 25:  79% 53/67 [29:52<07:53, 33.83s/it, loss=0.00739, v_num=0lja]\n",
            "Validation: 0it [00:00, ?it/s]\u001b[A\n",
            "Validation DataLoader 0:   0% 0/14 [00:02<?, ?it/s]\u001b[A\n",
            "Epoch 25: 100% 67/67 [30:06<00:00, 26.96s/it, loss=0.00739, v_num=0lja]f1: 0.91035 | Accuracy: 0.93039 | \n",
            "\n",
            "Epoch 25: 100% 67/67 [30:06<00:00, 26.96s/it, loss=0.00739, v_num=0lja]\n",
            "Epoch 25: 100% 67/67 [30:06<00:00, 26.96s/it, loss=0.00739, v_num=0lja]Epoch 25, global step 1378: 'val/f1' was not in top 3\n",
            "Epoch 26:  79% 53/67 [31:01<08:11, 35.12s/it, loss=0.00674, v_num=0lja]\n",
            "Validation: 0it [00:00, ?it/s]\u001b[A\n",
            "Validation DataLoader 0:   0% 0/14 [00:02<?, ?it/s]\u001b[A\n",
            "Epoch 26: 100% 67/67 [31:14<00:00, 27.98s/it, loss=0.00674, v_num=0lja]f1: 0.90838 | Accuracy: 0.93001 | \n",
            "\n",
            "Epoch 26: 100% 67/67 [31:14<00:00, 27.98s/it, loss=0.00674, v_num=0lja]\n",
            "Epoch 26: 100% 67/67 [31:14<00:00, 27.98s/it, loss=0.00674, v_num=0lja]Epoch 26, global step 1431: 'val/f1' was not in top 3\n",
            "Epoch 27:  79% 53/67 [32:09<08:29, 36.41s/it, loss=0.00743, v_num=0lja]\n",
            "Validation: 0it [00:00, ?it/s]\u001b[A\n",
            "Validation DataLoader 0:   0% 0/14 [00:02<?, ?it/s]\u001b[A\n",
            "Epoch 27: 100% 67/67 [32:23<00:00, 29.00s/it, loss=0.00743, v_num=0lja]f1: 0.91801 | Accuracy: 0.93155 | \n",
            "\n",
            "Epoch 27: 100% 67/67 [32:23<00:00, 29.00s/it, loss=0.00743, v_num=0lja]\n",
            "Epoch 27: 100% 67/67 [32:23<00:00, 29.00s/it, loss=0.00743, v_num=0lja]Epoch 27, global step 1484: 'val/f1' was not in top 3\n",
            "Epoch 28:  79% 53/67 [33:18<08:47, 37.71s/it, loss=0.00819, v_num=0lja]\n",
            "Validation: 0it [00:00, ?it/s]\u001b[A\n",
            "Validation DataLoader 0:   0% 0/14 [00:02<?, ?it/s]\u001b[A\n",
            "Epoch 28: 100% 67/67 [33:31<00:00, 30.03s/it, loss=0.00819, v_num=0lja]f1: 0.92523 | Accuracy: 0.93890 | \n",
            "\n",
            "Epoch 28: 100% 67/67 [33:31<00:00, 30.03s/it, loss=0.00819, v_num=0lja]\n",
            "Epoch 28: 100% 67/67 [33:31<00:00, 30.03s/it, loss=0.00819, v_num=0lja]Epoch 28, global step 1537: 'val/f1' was not in top 3\n",
            "Epoch 29:  79% 53/67 [34:27<09:06, 39.01s/it, loss=0.00752, v_num=0lja]\n",
            "Validation: 0it [00:00, ?it/s]\u001b[A\n",
            "Validation DataLoader 0:   0% 0/14 [00:02<?, ?it/s]\u001b[A\n",
            "Epoch 29: 100% 67/67 [34:40<00:00, 31.06s/it, loss=0.00752, v_num=0lja]f1: 0.92722 | Accuracy: 0.93890 | \n",
            "\n",
            "Epoch 29: 100% 67/67 [34:40<00:00, 31.06s/it, loss=0.00752, v_num=0lja]\n",
            "Epoch 29: 100% 67/67 [34:40<00:00, 31.06s/it, loss=0.00752, v_num=0lja]Epoch 29, global step 1590: 'val/f1' was not in top 3\n",
            "Epoch 30:  79% 53/67 [35:36<09:24, 40.31s/it, loss=0.00663, v_num=0lja]\n",
            "Validation: 0it [00:00, ?it/s]\u001b[A\n",
            "Validation DataLoader 0:   0% 0/14 [00:02<?, ?it/s]\u001b[A\n",
            "Epoch 30: 100% 67/67 [35:50<00:00, 32.09s/it, loss=0.00663, v_num=0lja]f1: 0.92239 | Accuracy: 0.93697 | \n",
            "\n",
            "Epoch 30: 100% 67/67 [35:50<00:00, 32.09s/it, loss=0.00663, v_num=0lja]\n",
            "Epoch 30: 100% 67/67 [35:50<00:00, 32.09s/it, loss=0.00663, v_num=0lja]Epoch 30, global step 1643: 'val/f1' was not in top 3\n",
            "Epoch 31:  79% 53/67 [36:45<09:42, 41.60s/it, loss=0.00616, v_num=0lja]\n",
            "Validation: 0it [00:00, ?it/s]\u001b[A\n",
            "Validation DataLoader 0:   0% 0/14 [00:02<?, ?it/s]\u001b[A\n",
            "Epoch 31: 100% 67/67 [36:58<00:00, 33.11s/it, loss=0.00616, v_num=0lja]f1: 0.92426 | Accuracy: 0.93774 | \n",
            "\n",
            "Epoch 31: 100% 67/67 [36:58<00:00, 33.11s/it, loss=0.00616, v_num=0lja]\n",
            "Epoch 31: 100% 67/67 [36:58<00:00, 33.11s/it, loss=0.00616, v_num=0lja]Epoch 31, global step 1696: 'val/f1' was not in top 3\n",
            "Epoch 32:  79% 53/67 [37:53<10:00, 42.90s/it, loss=0.00585, v_num=0lja]\n",
            "Validation: 0it [00:00, ?it/s]\u001b[A\n",
            "Validation DataLoader 0:   0% 0/14 [00:02<?, ?it/s]\u001b[A\n",
            "Epoch 32: 100% 67/67 [38:07<00:00, 34.14s/it, loss=0.00585, v_num=0lja]f1: 0.92081 | Accuracy: 0.93581 | \n",
            "\n",
            "Epoch 32: 100% 67/67 [38:07<00:00, 34.14s/it, loss=0.00585, v_num=0lja]\n",
            "Epoch 32: 100% 67/67 [38:07<00:00, 34.14s/it, loss=0.00585, v_num=0lja]Epoch 32, global step 1749: 'val/f1' was not in top 3\n",
            "Epoch 32: 100% 67/67 [38:07<00:00, 34.14s/it, loss=0.00585, v_num=0lja]\n",
            "\n",
            "\u001b[34m\u001b[1mwandb\u001b[0m: Waiting for W&B process to finish... \u001b[32m(success).\u001b[0m\n",
            "\u001b[34m\u001b[1mwandb\u001b[0m:                                                                                \n",
            "\u001b[34m\u001b[1mwandb\u001b[0m: \n",
            "\u001b[34m\u001b[1mwandb\u001b[0m: Run history:\n",
            "\u001b[34m\u001b[1mwandb\u001b[0m:               epoch ▁▁▁▁▂▂▂▂▂▃▃▃▃▃▃▄▄▄▄▄▅▅▅▅▅▆▆▆▆▆▆▇▇▇▇▇████\n",
            "\u001b[34m\u001b[1mwandb\u001b[0m:            lr-AdamW ▁▁▁▂▂▂▂▂▃▃▃▃▃▄▄▄▄▄▄▅▅▅▅▅▆▆▆▆▆▇▇▇▇▇██████\n",
            "\u001b[34m\u001b[1mwandb\u001b[0m:          train/loss █▄▂▂▂▂▂▂▂▂▂▂▁▁▂▂▂▁▁▂▂▁▁▁▁▁▁▁▁▁▂▂▁▁▁▁▁▁▁▁\n",
            "\u001b[34m\u001b[1mwandb\u001b[0m: trainer/global_step ▁▁▁▁▂▂▂▂▂▃▃▃▃▃▄▄▄▄▄▄▅▅▅▅▅▅▆▆▆▆▆▇▇▇▇▇▇███\n",
            "\u001b[34m\u001b[1mwandb\u001b[0m:        val/Accuracy ▁▁▂▃▄▃▅▄▃▄▇▆▇▅▆▅▅▇▃█▇▆▃█▅▅▄▅▇▇▆▆▆\n",
            "\u001b[34m\u001b[1mwandb\u001b[0m:              val/f1 ▁▁▂▃▅▃▅▄▄▄▇▇▇▆▆▅▆█▄█▇▆▄█▆▅▅▆▇▇▇▇▆\n",
            "\u001b[34m\u001b[1mwandb\u001b[0m:            val/loss █▂▂▁▁▁▁▁▁▁▁▂▁▁▁▁▁▂▂▁▁▁▂▁▁▂▁▁▁▁▁▁▁\n",
            "\u001b[34m\u001b[1mwandb\u001b[0m: \n",
            "\u001b[34m\u001b[1mwandb\u001b[0m: Run summary:\n",
            "\u001b[34m\u001b[1mwandb\u001b[0m:               epoch 32\n",
            "\u001b[34m\u001b[1mwandb\u001b[0m:            lr-AdamW 0.00096\n",
            "\u001b[34m\u001b[1mwandb\u001b[0m:          train/loss 0.00286\n",
            "\u001b[34m\u001b[1mwandb\u001b[0m: trainer/global_step 1748\n",
            "\u001b[34m\u001b[1mwandb\u001b[0m:        val/Accuracy 0.93581\n",
            "\u001b[34m\u001b[1mwandb\u001b[0m:              val/f1 0.92081\n",
            "\u001b[34m\u001b[1mwandb\u001b[0m:            val/loss 0.01637\n",
            "\u001b[34m\u001b[1mwandb\u001b[0m: \n",
            "\u001b[34m\u001b[1mwandb\u001b[0m: Synced \u001b[33mvehtype-2022_04_07-21_19_49\u001b[0m: \u001b[34m\u001b[4mhttps://wandb.ai/hcmus-aic22-ver/aic-srl/runs/1sgv0lja\u001b[0m\n",
            "\u001b[34m\u001b[1mwandb\u001b[0m: Synced 5 W&B file(s), 0 media file(s), 15 artifact file(s) and 0 other file(s)\n",
            "\u001b[34m\u001b[1mwandb\u001b[0m: Find logs at: \u001b[35m\u001b[1m/content/runs/wandb/run-20220407_211950-1sgv0lja/logs\u001b[0m\n"
          ]
        }
      ],
      "source": [
        "%cd $WORKDIR\n",
        "!CUDA_VISIBLE_DEVICES=0 python src/train.py \\\n",
        "                        -c configs/srl/vehtype.yml \\\n",
        "                        -o global.save_dir=/content/runs \\\n",
        "                        global.username=\"hcmus-aic22-ver\" \\\n",
        "                        trainer.num_epochs=100 \\\n",
        "                        # trainer.evaluate_interval=5 \\"
      ]
    },
    {
      "cell_type": "code",
      "source": [
        "import torch\n",
        "from opt import Opts\n",
        "\n",
        "from pathlib import Path\n",
        "from src.models import MODEL_REGISTRY\n",
        "from pytorch_lightning.callbacks import ModelCheckpoint\n",
        "\n",
        "import pytorch_lightning as pl\n",
        "\n",
        "\n",
        "def check(cfg, pretrained_ckpt=None):\n",
        "    model = MODEL_REGISTRY.get(cfg.model[\"name\"])(cfg)\n",
        "    model = model.load_from_checkpoint(pretrained_ckpt, config = cfg, strict=True)\n",
        "    trainer = pl.Trainer(\n",
        "        gpus=-1 if torch.cuda.device_count() else None,  # Use all gpus available\n",
        "        accelerator=\"ddp\" if torch.cuda.device_count() > 1 else None,\n",
        "        sync_batchnorm=True if torch.cuda.device_count() > 1 else False,\n",
        "    )\n",
        "    trainer.validate(model)\n",
        "    del trainer\n",
        "    del cfg\n",
        "    del model\n",
        "\n",
        "pretrained_ckpt = \"/content/runs/aic-srl/1sgv0lja/checkpoints/Vehtype-epoch=23-val/f1=0.9337.ckpt\"\n",
        "cfg_path = '/content/AIC2022-VER/configs/srl/vehtype.yml'\n",
        "\n",
        "cfg = Opts(cfg=cfg_path).parse_args([])\n",
        "check(\n",
        "    cfg,\n",
        "    pretrained_ckpt=pretrained_ckpt\n",
        ")"
      ],
      "metadata": {
        "colab": {
          "base_uri": "https://localhost:8080/",
          "height": 485,
          "referenced_widgets": [
            "603eee9862cb4964ac4603e7752f2a4f",
            "d716f52c5e3e401fac56061f8456bd43",
            "34fcc4ccafa44803adc33fd9997224eb",
            "b77d0d0ee046433eabfa2e5973941286",
            "f277c546e42c4e069daecd45e1b50b0a",
            "4441242315574fa89925a8ec65c90c2a",
            "0698cbb321a24105b3e0230174cb9305",
            "25982f0fba4c4a3082716f827a8e6c4f",
            "7f2658dadceb450e88d3dd71fd623f3d",
            "c7eee360b86c4896b19c6d062684243e",
            "d0497ca375df4bfca988581853e1c7db"
          ]
        },
        "id": "9bsGTApTPuru",
        "outputId": "85cea3cc-b692-405b-8bcb-03256900e81d"
      },
      "execution_count": null,
      "outputs": [
        {
          "output_type": "stream",
          "name": "stdout",
          "text": [
            "Overriding configurating\n",
            "Loaded pretrained weights for efficientnet-b0\n"
          ]
        },
        {
          "output_type": "stream",
          "name": "stderr",
          "text": [
            "/usr/local/lib/python3.7/dist-packages/pytorch_lightning/loops/utilities.py:94: PossibleUserWarning: `max_epochs` was not set. Setting it to 1000 epochs. To train without an epoch limit, set `max_epochs=-1`.\n",
            "  category=PossibleUserWarning,\n",
            "GPU available: True, used: True\n",
            "TPU available: False, using: 0 TPU cores\n",
            "IPU available: False, using: 0 IPUs\n",
            "HPU available: False, using: 0 HPUs\n",
            "Missing logger folder: /content/AIC2022-VER/lightning_logs\n"
          ]
        },
        {
          "output_type": "stream",
          "name": "stdout",
          "text": [
            "Loaded pretrained weights for efficientnet-b0\n",
            "1724\n",
            "data load\n",
            "431\n",
            "data load\n"
          ]
        },
        {
          "output_type": "stream",
          "name": "stderr",
          "text": [
            "LOCAL_RANK: 0 - CUDA_VISIBLE_DEVICES: [0]\n"
          ]
        },
        {
          "output_type": "display_data",
          "data": {
            "text/plain": [
              "Validation: 0it [00:00, ?it/s]"
            ],
            "application/vnd.jupyter.widget-view+json": {
              "version_major": 2,
              "version_minor": 0,
              "model_id": "603eee9862cb4964ac4603e7752f2a4f"
            }
          },
          "metadata": {}
        },
        {
          "output_type": "stream",
          "name": "stdout",
          "text": [
            "f1: 0.93238 | Accuracy: 0.94200 | \n",
            "\n",
            "────────────────────────────────────────────────────────────────────────────────────────────────────────────────────────\n",
            "     Validate metric           DataLoader 0\n",
            "────────────────────────────────────────────────────────────────────────────────────────────────────────────────────────\n",
            "      val/Accuracy          0.9419953596287703\n",
            "         val/f1             0.9323849730471298\n",
            "        val/loss            0.02019975334405899\n",
            "────────────────────────────────────────────────────────────────────────────────────────────────────────────────────────\n"
          ]
        }
      ]
    }
  ],
  "metadata": {
    "accelerator": "GPU",
    "colab": {
      "collapsed_sections": [
        "f1yzDDRl3sqI"
      ],
      "name": "[AIC22][VER] Training Vehicle Classifier guide.ipynb",
      "provenance": []
    },
    "kernelspec": {
      "display_name": "Python 3",
      "name": "python3"
    },
    "language_info": {
      "name": "python"
    },
    "widgets": {
      "application/vnd.jupyter.widget-state+json": {
        "603eee9862cb4964ac4603e7752f2a4f": {
          "model_module": "@jupyter-widgets/controls",
          "model_name": "HBoxModel",
          "model_module_version": "1.5.0",
          "state": {
            "_dom_classes": [],
            "_model_module": "@jupyter-widgets/controls",
            "_model_module_version": "1.5.0",
            "_model_name": "HBoxModel",
            "_view_count": null,
            "_view_module": "@jupyter-widgets/controls",
            "_view_module_version": "1.5.0",
            "_view_name": "HBoxView",
            "box_style": "",
            "children": [
              "IPY_MODEL_d716f52c5e3e401fac56061f8456bd43",
              "IPY_MODEL_34fcc4ccafa44803adc33fd9997224eb",
              "IPY_MODEL_b77d0d0ee046433eabfa2e5973941286"
            ],
            "layout": "IPY_MODEL_f277c546e42c4e069daecd45e1b50b0a"
          }
        },
        "d716f52c5e3e401fac56061f8456bd43": {
          "model_module": "@jupyter-widgets/controls",
          "model_name": "HTMLModel",
          "model_module_version": "1.5.0",
          "state": {
            "_dom_classes": [],
            "_model_module": "@jupyter-widgets/controls",
            "_model_module_version": "1.5.0",
            "_model_name": "HTMLModel",
            "_view_count": null,
            "_view_module": "@jupyter-widgets/controls",
            "_view_module_version": "1.5.0",
            "_view_name": "HTMLView",
            "description": "",
            "description_tooltip": null,
            "layout": "IPY_MODEL_4441242315574fa89925a8ec65c90c2a",
            "placeholder": "​",
            "style": "IPY_MODEL_0698cbb321a24105b3e0230174cb9305",
            "value": "Validation DataLoader 0: 100%"
          }
        },
        "34fcc4ccafa44803adc33fd9997224eb": {
          "model_module": "@jupyter-widgets/controls",
          "model_name": "FloatProgressModel",
          "model_module_version": "1.5.0",
          "state": {
            "_dom_classes": [],
            "_model_module": "@jupyter-widgets/controls",
            "_model_module_version": "1.5.0",
            "_model_name": "FloatProgressModel",
            "_view_count": null,
            "_view_module": "@jupyter-widgets/controls",
            "_view_module_version": "1.5.0",
            "_view_name": "ProgressView",
            "bar_style": "success",
            "description": "",
            "description_tooltip": null,
            "layout": "IPY_MODEL_25982f0fba4c4a3082716f827a8e6c4f",
            "max": 1,
            "min": 0,
            "orientation": "horizontal",
            "style": "IPY_MODEL_7f2658dadceb450e88d3dd71fd623f3d",
            "value": 1
          }
        },
        "b77d0d0ee046433eabfa2e5973941286": {
          "model_module": "@jupyter-widgets/controls",
          "model_name": "HTMLModel",
          "model_module_version": "1.5.0",
          "state": {
            "_dom_classes": [],
            "_model_module": "@jupyter-widgets/controls",
            "_model_module_version": "1.5.0",
            "_model_name": "HTMLModel",
            "_view_count": null,
            "_view_module": "@jupyter-widgets/controls",
            "_view_module_version": "1.5.0",
            "_view_name": "HTMLView",
            "description": "",
            "description_tooltip": null,
            "layout": "IPY_MODEL_c7eee360b86c4896b19c6d062684243e",
            "placeholder": "​",
            "style": "IPY_MODEL_d0497ca375df4bfca988581853e1c7db",
            "value": " 14/14 [00:13&lt;00:00,  1.03it/s]"
          }
        },
        "f277c546e42c4e069daecd45e1b50b0a": {
          "model_module": "@jupyter-widgets/base",
          "model_name": "LayoutModel",
          "model_module_version": "1.2.0",
          "state": {
            "_model_module": "@jupyter-widgets/base",
            "_model_module_version": "1.2.0",
            "_model_name": "LayoutModel",
            "_view_count": null,
            "_view_module": "@jupyter-widgets/base",
            "_view_module_version": "1.2.0",
            "_view_name": "LayoutView",
            "align_content": null,
            "align_items": null,
            "align_self": null,
            "border": null,
            "bottom": null,
            "display": "inline-flex",
            "flex": null,
            "flex_flow": "row wrap",
            "grid_area": null,
            "grid_auto_columns": null,
            "grid_auto_flow": null,
            "grid_auto_rows": null,
            "grid_column": null,
            "grid_gap": null,
            "grid_row": null,
            "grid_template_areas": null,
            "grid_template_columns": null,
            "grid_template_rows": null,
            "height": null,
            "justify_content": null,
            "justify_items": null,
            "left": null,
            "margin": null,
            "max_height": null,
            "max_width": null,
            "min_height": null,
            "min_width": null,
            "object_fit": null,
            "object_position": null,
            "order": null,
            "overflow": null,
            "overflow_x": null,
            "overflow_y": null,
            "padding": null,
            "right": null,
            "top": null,
            "visibility": null,
            "width": "100%"
          }
        },
        "4441242315574fa89925a8ec65c90c2a": {
          "model_module": "@jupyter-widgets/base",
          "model_name": "LayoutModel",
          "model_module_version": "1.2.0",
          "state": {
            "_model_module": "@jupyter-widgets/base",
            "_model_module_version": "1.2.0",
            "_model_name": "LayoutModel",
            "_view_count": null,
            "_view_module": "@jupyter-widgets/base",
            "_view_module_version": "1.2.0",
            "_view_name": "LayoutView",
            "align_content": null,
            "align_items": null,
            "align_self": null,
            "border": null,
            "bottom": null,
            "display": null,
            "flex": null,
            "flex_flow": null,
            "grid_area": null,
            "grid_auto_columns": null,
            "grid_auto_flow": null,
            "grid_auto_rows": null,
            "grid_column": null,
            "grid_gap": null,
            "grid_row": null,
            "grid_template_areas": null,
            "grid_template_columns": null,
            "grid_template_rows": null,
            "height": null,
            "justify_content": null,
            "justify_items": null,
            "left": null,
            "margin": null,
            "max_height": null,
            "max_width": null,
            "min_height": null,
            "min_width": null,
            "object_fit": null,
            "object_position": null,
            "order": null,
            "overflow": null,
            "overflow_x": null,
            "overflow_y": null,
            "padding": null,
            "right": null,
            "top": null,
            "visibility": null,
            "width": null
          }
        },
        "0698cbb321a24105b3e0230174cb9305": {
          "model_module": "@jupyter-widgets/controls",
          "model_name": "DescriptionStyleModel",
          "model_module_version": "1.5.0",
          "state": {
            "_model_module": "@jupyter-widgets/controls",
            "_model_module_version": "1.5.0",
            "_model_name": "DescriptionStyleModel",
            "_view_count": null,
            "_view_module": "@jupyter-widgets/base",
            "_view_module_version": "1.2.0",
            "_view_name": "StyleView",
            "description_width": ""
          }
        },
        "25982f0fba4c4a3082716f827a8e6c4f": {
          "model_module": "@jupyter-widgets/base",
          "model_name": "LayoutModel",
          "model_module_version": "1.2.0",
          "state": {
            "_model_module": "@jupyter-widgets/base",
            "_model_module_version": "1.2.0",
            "_model_name": "LayoutModel",
            "_view_count": null,
            "_view_module": "@jupyter-widgets/base",
            "_view_module_version": "1.2.0",
            "_view_name": "LayoutView",
            "align_content": null,
            "align_items": null,
            "align_self": null,
            "border": null,
            "bottom": null,
            "display": null,
            "flex": "2",
            "flex_flow": null,
            "grid_area": null,
            "grid_auto_columns": null,
            "grid_auto_flow": null,
            "grid_auto_rows": null,
            "grid_column": null,
            "grid_gap": null,
            "grid_row": null,
            "grid_template_areas": null,
            "grid_template_columns": null,
            "grid_template_rows": null,
            "height": null,
            "justify_content": null,
            "justify_items": null,
            "left": null,
            "margin": null,
            "max_height": null,
            "max_width": null,
            "min_height": null,
            "min_width": null,
            "object_fit": null,
            "object_position": null,
            "order": null,
            "overflow": null,
            "overflow_x": null,
            "overflow_y": null,
            "padding": null,
            "right": null,
            "top": null,
            "visibility": null,
            "width": null
          }
        },
        "7f2658dadceb450e88d3dd71fd623f3d": {
          "model_module": "@jupyter-widgets/controls",
          "model_name": "ProgressStyleModel",
          "model_module_version": "1.5.0",
          "state": {
            "_model_module": "@jupyter-widgets/controls",
            "_model_module_version": "1.5.0",
            "_model_name": "ProgressStyleModel",
            "_view_count": null,
            "_view_module": "@jupyter-widgets/base",
            "_view_module_version": "1.2.0",
            "_view_name": "StyleView",
            "bar_color": null,
            "description_width": ""
          }
        },
        "c7eee360b86c4896b19c6d062684243e": {
          "model_module": "@jupyter-widgets/base",
          "model_name": "LayoutModel",
          "model_module_version": "1.2.0",
          "state": {
            "_model_module": "@jupyter-widgets/base",
            "_model_module_version": "1.2.0",
            "_model_name": "LayoutModel",
            "_view_count": null,
            "_view_module": "@jupyter-widgets/base",
            "_view_module_version": "1.2.0",
            "_view_name": "LayoutView",
            "align_content": null,
            "align_items": null,
            "align_self": null,
            "border": null,
            "bottom": null,
            "display": null,
            "flex": null,
            "flex_flow": null,
            "grid_area": null,
            "grid_auto_columns": null,
            "grid_auto_flow": null,
            "grid_auto_rows": null,
            "grid_column": null,
            "grid_gap": null,
            "grid_row": null,
            "grid_template_areas": null,
            "grid_template_columns": null,
            "grid_template_rows": null,
            "height": null,
            "justify_content": null,
            "justify_items": null,
            "left": null,
            "margin": null,
            "max_height": null,
            "max_width": null,
            "min_height": null,
            "min_width": null,
            "object_fit": null,
            "object_position": null,
            "order": null,
            "overflow": null,
            "overflow_x": null,
            "overflow_y": null,
            "padding": null,
            "right": null,
            "top": null,
            "visibility": null,
            "width": null
          }
        },
        "d0497ca375df4bfca988581853e1c7db": {
          "model_module": "@jupyter-widgets/controls",
          "model_name": "DescriptionStyleModel",
          "model_module_version": "1.5.0",
          "state": {
            "_model_module": "@jupyter-widgets/controls",
            "_model_module_version": "1.5.0",
            "_model_name": "DescriptionStyleModel",
            "_view_count": null,
            "_view_module": "@jupyter-widgets/base",
            "_view_module_version": "1.2.0",
            "_view_name": "StyleView",
            "description_width": ""
          }
        }
      }
    }
  },
  "nbformat": 4,
  "nbformat_minor": 0
}