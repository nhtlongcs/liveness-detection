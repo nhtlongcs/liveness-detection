{
 "cells": [
  {
   "cell_type": "code",
   "execution_count": 1,
   "metadata": {},
   "outputs": [],
   "source": [
    "import os.path as osp\n",
    "\n",
    "ROOT_DIR='./'\n",
    "CKPT_PATH=osp.join(ROOT_DIR,'checkpoints/EffB5FaceAcc0.9841.ckpt')\n",
    "CFG_PATH=osp.join(ROOT_DIR,'configs/faceb5.yml')"
   ]
  },
  {
   "cell_type": "code",
   "execution_count": 2,
   "metadata": {},
   "outputs": [
    {
     "name": "stderr",
     "output_type": "stream",
     "text": [
      "INFO:root:Checking video ids in generated labels. Step 1/3\n",
      "INFO:root:Checking labels in generated labels with original labels. Step 2/3\n",
      "INFO:root:Checking labels in generated labels with existing keyframes / bounding boxes. Step 3/3\n",
      "INFO:root:Checking video ids in generated labels. Step 1/3\n",
      "INFO:root:Checking labels in generated labels with original labels. Step 2/3\n",
      "INFO:root:Checking labels in generated labels with existing keyframes / bounding boxes. Step 3/3\n"
     ]
    }
   ],
   "source": [
    "# ensure that data is valid, please wait for a while\n",
    "from preprocessing.sanity_checks import check_all\n",
    "check_all(osp.join(ROOT_DIR,\"data/train/\"))\n",
    "check_all(osp.join(ROOT_DIR,\"data/public/\"))"
   ]
  },
  {
   "cell_type": "markdown",
   "metadata": {},
   "source": [
    "## Validate your model on the test set (image level)"
   ]
  },
  {
   "cell_type": "code",
   "execution_count": 3,
   "metadata": {},
   "outputs": [
    {
     "name": "stdout",
     "output_type": "stream",
     "text": [
      "Overriding configurating\n",
      "Loaded pretrained weights for efficientnet-b5\n",
      "Loaded pretrained weights for efficientnet-b5\n",
      "/home/nhtlong/miniconda3/envs/zaloai/lib/python3.9/site-packages/pytorch_lightning/loops/utilities.py:91: PossibleUserWarning: `max_epochs` was not set. Setting it to 1000 epochs. To train without an epoch limit, set `max_epochs=-1`.\n",
      "  rank_zero_warn(\n",
      "GPU available: True, used: True\n",
      "TPU available: False, using: 0 TPU cores\n",
      "IPU available: False, using: 0 IPUs\n",
      "HPU available: False, using: 0 HPUs\n",
      "Overriding configurating\n",
      "Loaded pretrained weights for efficientnet-b5\n",
      "Loaded pretrained weights for efficientnet-b5\n",
      "Initializing distributed: GLOBAL_RANK: 1, MEMBER: 2/2\n",
      "Initializing distributed: GLOBAL_RANK: 0, MEMBER: 1/2\n",
      "----------------------------------------------------------------------------------------------------\n",
      "distributed_backend=nccl\n",
      "All distributed processes registered. Starting with 2 processes\n",
      "----------------------------------------------------------------------------------------------------\n",
      "\n",
      "LOCAL_RANK: 1 - CUDA_VISIBLE_DEVICES: [0,1]\n",
      "LOCAL_RANK: 0 - CUDA_VISIBLE_DEVICES: [0,1]\n",
      "/home/nhtlong/miniconda3/envs/zaloai/lib/python3.9/site-packages/pytorch_lightning/trainer/connectors/data_connector.py:330: PossibleUserWarning: Using `DistributedSampler` with the dataloaders. During `trainer.validate()`, it is recommended to use `Trainer(devices=1)` to ensure each sample/batch gets evaluated exactly once. Otherwise, multi-device settings use `DistributedSampler` that replicates some samples to make sure all devices have same batch size in case of uneven inputs.\n",
      "  rank_zero_warn(\n",
      "Validation DataLoader 0:  99%|███████████████▉| 139/140 [00:52<00:00,  2.62it/s]Accuracy: 0.98428 | \n",
      "\n",
      "Validation DataLoader 0: 100%|████████████████| 140/140 [00:53<00:00,  2.62it/s]Accuracy: 0.98450 | \n",
      "\n",
      "Validation DataLoader 0: 100%|████████████████| 140/140 [00:53<00:00,  2.61it/s]\n",
      "────────────────────────────────────────────────────────────────────────────────\n",
      "     Validate metric           DataLoader 0\n",
      "────────────────────────────────────────────────────────────────────────────────\n",
      "      val/Accuracy          0.9843890386343217\n",
      "        val/loss            0.00999380648136139\n",
      "────────────────────────────────────────────────────────────────────────────────\n"
     ]
    }
   ],
   "source": [
    "!python $ROOT_DIR/scripts/validate.py -c $CFG_PATH --o global.pretrained=$CKPT_PATH"
   ]
  },
  {
   "cell_type": "markdown",
   "metadata": {},
   "source": [
    "## Validate your model on the test set (video level)"
   ]
  },
  {
   "cell_type": "code",
   "execution_count": 9,
   "metadata": {},
   "outputs": [
    {
     "name": "stdout",
     "output_type": "stream",
     "text": [
      "Overriding configurating\n",
      "/home/nhtlong/miniconda3/envs/zaloai/lib/python3.9/site-packages/pytorch_lightning/loops/utilities.py:91: PossibleUserWarning: `max_epochs` was not set. Setting it to 1000 epochs. To train without an epoch limit, set `max_epochs=-1`.\n",
      "  rank_zero_warn(\n",
      "GPU available: True, used: True\n",
      "TPU available: False, using: 0 TPU cores\n",
      "IPU available: False, using: 0 IPUs\n",
      "HPU available: False, using: 0 HPUs\n",
      "Initializing distributed: GLOBAL_RANK: 0, MEMBER: 1/2\n",
      "Overriding configurating\n",
      "Initializing distributed: GLOBAL_RANK: 1, MEMBER: 2/2\n",
      "----------------------------------------------------------------------------------------------------\n",
      "distributed_backend=nccl\n",
      "All distributed processes registered. Starting with 2 processes\n",
      "----------------------------------------------------------------------------------------------------\n",
      "\n",
      "LOCAL_RANK: 1 - CUDA_VISIBLE_DEVICES: [0,1]\n",
      "LOCAL_RANK: 0 - CUDA_VISIBLE_DEVICES: [0,1]\n",
      "Predicting DataLoader 0: 100%|████████████████| 140/140 [00:55<00:00,  2.51it/s]\n"
     ]
    }
   ],
   "source": [
    "VAL_CFG_PATH = osp.join(ROOT_DIR,'configs/validation/faceb5.yml')\n",
    "!CUDA_VISIBLE_DEVICES=0,1 python scripts/predict.py -c  $VAL_CFG_PATH \\\n",
    "                                                    -o  global.pretrained=$CKPT_PATH \\\n",
    "                                                        global.save_path=\"results/val.csv\""
   ]
  },
  {
   "cell_type": "code",
   "execution_count": 11,
   "metadata": {},
   "outputs": [
    {
     "name": "stdout",
     "output_type": "stream",
     "text": [
      "59\n"
     ]
    }
   ],
   "source": [
    "!python competition/strategy/confident.py --input=\"results/val.csv\" --output=\"results/val_video.csv\""
   ]
  },
  {
   "cell_type": "code",
   "execution_count": 14,
   "metadata": {},
   "outputs": [
    {
     "name": "stdout",
     "output_type": "stream",
     "text": [
      "╒═══════════════════════╤═════════════════════════╕\n",
      "│   number of gt sample │   number of predictions │\n",
      "╞═══════════════════════╪═════════════════════════╡\n",
      "│                    59 │                      59 │\n",
      "╘═══════════════════════╧═════════════════════════╛\n",
      "╒═══════╤═══════╤═══════╕\n",
      "│   fpr │   fnr │   eer │\n",
      "╞═══════╪═══════╪═══════╡\n",
      "│     0 │     0 │     0 │\n",
      "╘═══════╧═══════╧═══════╛\n",
      "╒═════════════╤═══════╕\n",
      "│   threshold │   acc │\n",
      "╞═════════════╪═══════╡\n",
      "│         0.5 │     1 │\n",
      "╘═════════════╧═══════╛\n"
     ]
    }
   ],
   "source": [
    "!python competition/test.py --pred=\"results/val_video.csv\" --gt=\"data/train/labels_video_test.csv\""
   ]
  },
  {
   "cell_type": "markdown",
   "metadata": {},
   "source": [
    "## Predict on the test set "
   ]
  },
  {
   "cell_type": "code",
   "execution_count": 10,
   "metadata": {},
   "outputs": [
    {
     "name": "stdout",
     "output_type": "stream",
     "text": [
      "Overriding configurating\n",
      "/home/nhtlong/miniconda3/envs/zaloai/lib/python3.9/site-packages/pytorch_lightning/loops/utilities.py:91: PossibleUserWarning: `max_epochs` was not set. Setting it to 1000 epochs. To train without an epoch limit, set `max_epochs=-1`.\n",
      "  rank_zero_warn(\n",
      "GPU available: True, used: True\n",
      "TPU available: False, using: 0 TPU cores\n",
      "IPU available: False, using: 0 IPUs\n",
      "HPU available: False, using: 0 HPUs\n",
      "Overriding configurating\n",
      "Initializing distributed: GLOBAL_RANK: 0, MEMBER: 1/2\n",
      "Initializing distributed: GLOBAL_RANK: 1, MEMBER: 2/2\n",
      "----------------------------------------------------------------------------------------------------\n",
      "distributed_backend=nccl\n",
      "All distributed processes registered. Starting with 2 processes\n",
      "----------------------------------------------------------------------------------------------------\n",
      "\n",
      "LOCAL_RANK: 1 - CUDA_VISIBLE_DEVICES: [0,1]\n",
      "LOCAL_RANK: 0 - CUDA_VISIBLE_DEVICES: [0,1]\n",
      "Predicting DataLoader 0: 100%|████████████████| 822/822 [05:07<00:00,  2.67it/s]\n"
     ]
    }
   ],
   "source": [
    "PUBLIC_CFG_PATH = osp.join(ROOT_DIR,'configs/public/faceb5.yml')\n",
    "!CUDA_VISIBLE_DEVICES=0,1 python scripts/predict.py -c  $PUBLIC_CFG_PATH \\\n",
    "                                                    -o  global.pretrained=$CKPT_PATH \\\n",
    "                                                        global.save_path=\"results/public.csv\""
   ]
  },
  {
   "cell_type": "code",
   "execution_count": 16,
   "metadata": {},
   "outputs": [
    {
     "name": "stdout",
     "output_type": "stream",
     "text": [
      "350\n"
     ]
    }
   ],
   "source": [
    "!python competition/strategy/confident.py --input=\"results/public.csv\" --output=\"results/submission.csv\""
   ]
  }
 ],
 "metadata": {
  "kernelspec": {
   "display_name": "Python 3.9.13 ('zaloai')",
   "language": "python",
   "name": "python3"
  },
  "language_info": {
   "codemirror_mode": {
    "name": "ipython",
    "version": 3
   },
   "file_extension": ".py",
   "mimetype": "text/x-python",
   "name": "python",
   "nbconvert_exporter": "python",
   "pygments_lexer": "ipython3",
   "version": "3.9.13"
  },
  "orig_nbformat": 4,
  "vscode": {
   "interpreter": {
    "hash": "20ae68c5166a594adc0b9bc0156f781891935baaf9f86f15a7c294214ff40d3d"
   }
  }
 },
 "nbformat": 4,
 "nbformat_minor": 2
}
